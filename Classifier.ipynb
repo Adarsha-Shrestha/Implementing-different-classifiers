{
  "nbformat": 5,
  "nbformat_minor": 0,
  "metadata": {
    "colab": {
      "provenance": [],
      "authorship_tag": "ABX9TyO3t4TQ0KAjlZQdWKJ9AHaT"
    },
    "kernelspec": {
      "name": "python3",
      "display_name": "Python 3"
    },
    "language_info": {
      "name": "python"
    }
  },
  "cells": [
    {
      "cell_type": "markdown",
      "source": [
        "### Import necessary dependencies"
      ],
      "metadata": {
        "id": "-IISbEMQTxgJ"
      }
    },
    {
      "cell_type": "code",
      "execution_count": 1,
      "metadata": {
        "id": "VLaR5OvTTAjP"
      },
      "outputs": [],
      "source": [
        "import matplotlib.pyplot as plt\n",
        "import numpy as np\n",
        "from sklearn.model_selection import  train_test_split\n",
        "from sklearn.datasets import load_breast_cancer\n",
        "from sklearn.svm import SVC\n",
        "from sklearn.linear_model import LogisticRegression\n",
        "from sklearn.tree import DecisionTreeClassifier\n",
        "from sklearn.ensemble import BaggingClassifier\n",
        "from sklearn.ensemble import RandomForestClassifier"
      ]
    },
    {
      "cell_type": "markdown",
      "source": [
        "### Load dataset"
      ],
      "metadata": {
        "id": "S65MvXSqTuG3"
      }
    },
    {
      "cell_type": "code",
      "source": [
        "cancer = load_breast_cancer()\n",
        "\n",
        "X_train, X_test, y_train, y_test = train_test_split(cancer.data,cancer.target,random_state=0)\n",
        "print(X_train.shape)\n",
        "print(X_test.shape)"
      ],
      "metadata": {
        "colab": {
          "base_uri": "https://localhost:8080/"
        },
        "id": "T8hLtlmCTiS2",
        "outputId": "01733a68-fb83-4266-a5b6-07cc860db3fe"
      },
      "execution_count": 2,
      "outputs": [
        {
          "output_type": "stream",
          "name": "stdout",
          "text": [
            "(426, 30)\n",
            "(143, 30)\n"
          ]
        }
      ]
    },
    {
      "cell_type": "markdown",
      "source": [
        "### Logistic Regression"
      ],
      "metadata": {
        "id": "liFL9m-jUTTs"
      }
    },
    {
      "cell_type": "code",
      "source": [
        "logreg = LogisticRegression(solver='lbfgs')\n",
        "logreg.fit(X_train, y_train)\n",
        "print(\"Test set accuracy with Logistic Regression: {:.2f}\".format(logreg.score(X_test,y_test)))"
      ],
      "metadata": {
        "colab": {
          "base_uri": "https://localhost:8080/"
        },
        "id": "PXL2BfOqURxi",
        "outputId": "574a7ee1-6953-42c8-f082-ff90ef3ccd6f"
      },
      "execution_count": 3,
      "outputs": [
        {
          "output_type": "stream",
          "name": "stdout",
          "text": [
            "Test set accuracy with Logistic Regression: 0.94\n"
          ]
        },
        {
          "output_type": "stream",
          "name": "stderr",
          "text": [
            "/usr/local/lib/python3.10/dist-packages/sklearn/linear_model/_logistic.py:458: ConvergenceWarning: lbfgs failed to converge (status=1):\n",
            "STOP: TOTAL NO. of ITERATIONS REACHED LIMIT.\n",
            "\n",
            "Increase the number of iterations (max_iter) or scale the data as shown in:\n",
            "    https://scikit-learn.org/stable/modules/preprocessing.html\n",
            "Please also refer to the documentation for alternative solver options:\n",
            "    https://scikit-learn.org/stable/modules/linear_model.html#logistic-regression\n",
            "  n_iter_i = _check_optimize_result(\n"
          ]
        }
      ]
    },
    {
      "cell_type": "markdown",
      "source": [
        "### SVM\n",
        "\n"
      ],
      "metadata": {
        "id": "vi9Dp8EAVifZ"
      }
    },
    {
      "cell_type": "code",
      "source": [
        "svm = SVC(gamma='auto', C=100)\n",
        "svm.fit(X_train, y_train)\n",
        "print(\"Test set accuracy with SVM: {:.2f}\".format(svm.score(X_test,y_test)))"
      ],
      "metadata": {
        "colab": {
          "base_uri": "https://localhost:8080/"
        },
        "id": "l-V0n2DsVhYz",
        "outputId": "b2fb2759-8c4b-4e55-a72b-6d19530a1b99"
      },
      "execution_count": 4,
      "outputs": [
        {
          "output_type": "stream",
          "name": "stdout",
          "text": [
            "Test set accuracy with SVM: 0.63\n"
          ]
        }
      ]
    },
    {
      "cell_type": "markdown",
      "source": [
        "### Decison Trees"
      ],
      "metadata": {
        "id": "iiEFSQwhV3PQ"
      }
    },
    {
      "cell_type": "code",
      "source": [
        "deep_tree_clf = DecisionTreeClassifier(max_depth=None)\n",
        "deep_tree_clf.fit(X_train, y_train)\n",
        "print(\"Test set accuracy with Decision Trees: {:.2f}\".format(deep_tree_clf.score(X_test,y_test)))"
      ],
      "metadata": {
        "colab": {
          "base_uri": "https://localhost:8080/"
        },
        "id": "tJ3th6_qV0n0",
        "outputId": "34ba4298-03f4-4832-c5c8-9bcb05731ea3"
      },
      "execution_count": 5,
      "outputs": [
        {
          "output_type": "stream",
          "name": "stdout",
          "text": [
            "Test set accuracy with Decision Trees: 0.91\n"
          ]
        }
      ]
    },
    {
      "cell_type": "markdown",
      "source": [
        "### Bagging"
      ],
      "metadata": {
        "id": "w-0rpLrvfLak"
      }
    },
    {
      "cell_type": "code",
      "source": [
        "Bag_clf = BaggingClassifier(n_estimators= 500)\n",
        "Bag_clf.fit(X_train, y_train)\n",
        "print(\"Test set accuracy with Bagging: {:.2f}\".format(Bag_clf.score(X_test,y_test)))"
      ],
      "metadata": {
        "colab": {
          "base_uri": "https://localhost:8080/"
        },
        "id": "oC9eB3CleyH0",
        "outputId": "eb3b2f76-57f5-45c0-8b0e-33e42913e856"
      },
      "execution_count": 6,
      "outputs": [
        {
          "output_type": "stream",
          "name": "stdout",
          "text": [
            "Test set accuracy with Bagging: 0.97\n"
          ]
        }
      ]
    },
    {
      "cell_type": "markdown",
      "source": [
        "### Random Forest\n",
        "\n"
      ],
      "metadata": {
        "id": "zhVcLuD7WK8t"
      }
    },
    {
      "cell_type": "code",
      "source": [
        "Random_Forest_model = RandomForestClassifier(n_estimators=500,criterion=\"entropy\")\n",
        "Random_Forest_model.fit(X_train, y_train)\n",
        "print(\"Test set accuracy with Random Forests: {:.2f}\".format(Random_Forest_model.score(X_test,y_test)))"
      ],
      "metadata": {
        "colab": {
          "base_uri": "https://localhost:8080/"
        },
        "id": "GaElWt3XWJfW",
        "outputId": "df6e87ee-7ec3-4817-83fe-a68693babd68"
      },
      "execution_count": 7,
      "outputs": [
        {
          "output_type": "stream",
          "name": "stdout",
          "text": [
            "Test set accuracy with Random Forests: 0.98\n"
          ]
        }
      ]
    }
  ]
}
